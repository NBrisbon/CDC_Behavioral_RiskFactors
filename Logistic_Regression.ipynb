{
 "cells": [
  {
   "cell_type": "markdown",
   "metadata": {},
   "source": [
    "# **Logistic Regression Model**"
   ]
  },
  {
   "cell_type": "markdown",
   "metadata": {},
   "source": [
    "## We're using annual survey data from the CDC to predict risk for mental health problems. These are self-report measures. There are a number of features that we will use in order to predict whether or not someone will experience mental health problems over a particular month-long period. "
   ]
  },
  {
   "cell_type": "markdown",
   "metadata": {},
   "source": [
    "## Install libraries"
   ]
  },
  {
   "cell_type": "code",
   "execution_count": 2,
   "metadata": {},
   "outputs": [],
   "source": [
    "import pandas as pd\n",
    "import numpy as np\n",
    "import matplotlib\n",
    "import matplotlib.pyplot as plt\n",
    "import seaborn as sns\n",
    "%matplotlib inline\n",
    "from scipy import stats\n",
    "from sklearn.model_selection import train_test_split \n",
    "from sklearn.linear_model import LinearRegression\n",
    "from sklearn.linear_model import LogisticRegression\n",
    "from sklearn import metrics\n",
    "from sklearn.metrics import r2_score\n",
    "import statsmodels.api as sm\n",
    "from sklearn.feature_selection import RFE\n",
    "from sklearn.linear_model import RidgeCV, LassoCV, Ridge, Lasso"
   ]
  },
  {
   "cell_type": "markdown",
   "metadata": {},
   "source": [
    "## Read in the data"
   ]
  },
  {
   "cell_type": "code",
   "execution_count": 3,
   "metadata": {},
   "outputs": [
    {
     "data": {
      "text/html": [
       "<div>\n",
       "<style scoped>\n",
       "    .dataframe tbody tr th:only-of-type {\n",
       "        vertical-align: middle;\n",
       "    }\n",
       "\n",
       "    .dataframe tbody tr th {\n",
       "        vertical-align: top;\n",
       "    }\n",
       "\n",
       "    .dataframe thead th {\n",
       "        text-align: right;\n",
       "    }\n",
       "</style>\n",
       "<table border=\"1\" class=\"dataframe\">\n",
       "  <thead>\n",
       "    <tr style=\"text-align: right;\">\n",
       "      <th></th>\n",
       "      <th>SEX</th>\n",
       "      <th>_AGE_G</th>\n",
       "      <th>_BMI5CAT</th>\n",
       "      <th>_EDUCAG</th>\n",
       "      <th>_INCOMG</th>\n",
       "      <th>_DRNKWEK</th>\n",
       "      <th>_RFDRHV5</th>\n",
       "      <th>_PACAT1</th>\n",
       "      <th>PA1MIN_</th>\n",
       "      <th>EXERANY2</th>\n",
       "      <th>_RFHLTH</th>\n",
       "      <th>_VEGESU1</th>\n",
       "      <th>_HCVU651</th>\n",
       "      <th>EMPLOY1</th>\n",
       "      <th>VETERAN3</th>\n",
       "      <th>MARITAL</th>\n",
       "      <th>ADDEPEV2</th>\n",
       "      <th>POORHLTH</th>\n",
       "      <th>PHYSHLTH</th>\n",
       "      <th>MENTHLTH</th>\n",
       "      <th>MENTHLTH2</th>\n",
       "    </tr>\n",
       "  </thead>\n",
       "  <tbody>\n",
       "    <tr>\n",
       "      <th>0</th>\n",
       "      <td>0.0</td>\n",
       "      <td>6.0</td>\n",
       "      <td>1.0</td>\n",
       "      <td>1.0</td>\n",
       "      <td>4.0</td>\n",
       "      <td>5.397605e-79</td>\n",
       "      <td>0.0</td>\n",
       "      <td>1.0</td>\n",
       "      <td>360.0</td>\n",
       "      <td>1.0</td>\n",
       "      <td>1.0</td>\n",
       "      <td>171.0</td>\n",
       "      <td>1.0</td>\n",
       "      <td>0.0</td>\n",
       "      <td>1.0</td>\n",
       "      <td>0.0</td>\n",
       "      <td>0.0</td>\n",
       "      <td>0.0</td>\n",
       "      <td>0.0</td>\n",
       "      <td>0.0</td>\n",
       "      <td>0.0</td>\n",
       "    </tr>\n",
       "    <tr>\n",
       "      <th>1</th>\n",
       "      <td>1.0</td>\n",
       "      <td>6.0</td>\n",
       "      <td>1.0</td>\n",
       "      <td>1.0</td>\n",
       "      <td>5.0</td>\n",
       "      <td>5.397605e-79</td>\n",
       "      <td>0.0</td>\n",
       "      <td>1.0</td>\n",
       "      <td>420.0</td>\n",
       "      <td>1.0</td>\n",
       "      <td>1.0</td>\n",
       "      <td>200.0</td>\n",
       "      <td>1.0</td>\n",
       "      <td>0.0</td>\n",
       "      <td>0.0</td>\n",
       "      <td>1.0</td>\n",
       "      <td>0.0</td>\n",
       "      <td>0.0</td>\n",
       "      <td>0.0</td>\n",
       "      <td>0.0</td>\n",
       "      <td>0.0</td>\n",
       "    </tr>\n",
       "    <tr>\n",
       "      <th>2</th>\n",
       "      <td>1.0</td>\n",
       "      <td>6.0</td>\n",
       "      <td>1.0</td>\n",
       "      <td>0.0</td>\n",
       "      <td>4.0</td>\n",
       "      <td>1.000000e+02</td>\n",
       "      <td>0.0</td>\n",
       "      <td>4.0</td>\n",
       "      <td>270.0</td>\n",
       "      <td>0.0</td>\n",
       "      <td>1.0</td>\n",
       "      <td>57.0</td>\n",
       "      <td>1.0</td>\n",
       "      <td>0.0</td>\n",
       "      <td>0.0</td>\n",
       "      <td>1.0</td>\n",
       "      <td>0.0</td>\n",
       "      <td>0.0</td>\n",
       "      <td>0.0</td>\n",
       "      <td>0.0</td>\n",
       "      <td>0.0</td>\n",
       "    </tr>\n",
       "    <tr>\n",
       "      <th>3</th>\n",
       "      <td>0.0</td>\n",
       "      <td>6.0</td>\n",
       "      <td>1.0</td>\n",
       "      <td>0.0</td>\n",
       "      <td>1.0</td>\n",
       "      <td>5.397605e-79</td>\n",
       "      <td>0.0</td>\n",
       "      <td>2.0</td>\n",
       "      <td>270.0</td>\n",
       "      <td>1.0</td>\n",
       "      <td>0.0</td>\n",
       "      <td>172.0</td>\n",
       "      <td>1.0</td>\n",
       "      <td>0.0</td>\n",
       "      <td>0.0</td>\n",
       "      <td>0.0</td>\n",
       "      <td>1.0</td>\n",
       "      <td>0.0</td>\n",
       "      <td>0.0</td>\n",
       "      <td>0.0</td>\n",
       "      <td>0.0</td>\n",
       "    </tr>\n",
       "    <tr>\n",
       "      <th>4</th>\n",
       "      <td>0.0</td>\n",
       "      <td>6.0</td>\n",
       "      <td>0.0</td>\n",
       "      <td>0.0</td>\n",
       "      <td>1.0</td>\n",
       "      <td>5.397605e-79</td>\n",
       "      <td>0.0</td>\n",
       "      <td>4.0</td>\n",
       "      <td>270.0</td>\n",
       "      <td>0.0</td>\n",
       "      <td>0.0</td>\n",
       "      <td>48.0</td>\n",
       "      <td>1.0</td>\n",
       "      <td>0.0</td>\n",
       "      <td>0.0</td>\n",
       "      <td>0.0</td>\n",
       "      <td>0.0</td>\n",
       "      <td>14.0</td>\n",
       "      <td>14.0</td>\n",
       "      <td>0.0</td>\n",
       "      <td>0.0</td>\n",
       "    </tr>\n",
       "  </tbody>\n",
       "</table>\n",
       "</div>"
      ],
      "text/plain": [
       "   SEX  _AGE_G  _BMI5CAT  _EDUCAG  _INCOMG      _DRNKWEK  _RFDRHV5  _PACAT1  \\\n",
       "0  0.0     6.0       1.0      1.0      4.0  5.397605e-79       0.0      1.0   \n",
       "1  1.0     6.0       1.0      1.0      5.0  5.397605e-79       0.0      1.0   \n",
       "2  1.0     6.0       1.0      0.0      4.0  1.000000e+02       0.0      4.0   \n",
       "3  0.0     6.0       1.0      0.0      1.0  5.397605e-79       0.0      2.0   \n",
       "4  0.0     6.0       0.0      0.0      1.0  5.397605e-79       0.0      4.0   \n",
       "\n",
       "   PA1MIN_  EXERANY2  _RFHLTH  _VEGESU1  _HCVU651  EMPLOY1  VETERAN3  MARITAL  \\\n",
       "0    360.0       1.0      1.0     171.0       1.0      0.0       1.0      0.0   \n",
       "1    420.0       1.0      1.0     200.0       1.0      0.0       0.0      1.0   \n",
       "2    270.0       0.0      1.0      57.0       1.0      0.0       0.0      1.0   \n",
       "3    270.0       1.0      0.0     172.0       1.0      0.0       0.0      0.0   \n",
       "4    270.0       0.0      0.0      48.0       1.0      0.0       0.0      0.0   \n",
       "\n",
       "   ADDEPEV2  POORHLTH  PHYSHLTH  MENTHLTH  MENTHLTH2  \n",
       "0       0.0       0.0       0.0       0.0        0.0  \n",
       "1       0.0       0.0       0.0       0.0        0.0  \n",
       "2       0.0       0.0       0.0       0.0        0.0  \n",
       "3       1.0       0.0       0.0       0.0        0.0  \n",
       "4       0.0      14.0      14.0       0.0        0.0  "
      ]
     },
     "execution_count": 3,
     "metadata": {},
     "output_type": "execute_result"
    }
   ],
   "source": [
    "pd.set_option('display.max_columns', 50)\n",
    "LLCP2 = pd.read_csv(r'C:\\Users\\Nick\\Desktop\\GitProjects\\LLCP_Project\\LLCP2.csv')\n",
    "LLCP2.head()"
   ]
  },
  {
   "cell_type": "markdown",
   "metadata": {},
   "source": [
    "## Let's run a full logistic regression model first"
   ]
  },
  {
   "cell_type": "code",
   "execution_count": 4,
   "metadata": {},
   "outputs": [],
   "source": [
    "X1 = LLCP2[['SEX','_AGE_G','_BMI5CAT','_EDUCAG','_INCOMG','_DRNKWEK','_RFDRHV5','_PACAT1','PA1MIN_','EXERANY2',\n",
    "           '_RFHLTH','_VEGESU1','_HCVU651','EMPLOY1','VETERAN3','MARITAL','ADDEPEV2','POORHLTH',\n",
    "           'PHYSHLTH']].values\n",
    "\n",
    "y_logistic1 = LLCP2['MENTHLTH2'].values"
   ]
  },
  {
   "cell_type": "code",
   "execution_count": 5,
   "metadata": {},
   "outputs": [
    {
     "name": "stdout",
     "output_type": "stream",
     "text": [
      "Optimization terminated successfully.\n",
      "         Current function value: 0.509510\n",
      "         Iterations 6\n",
      "                          Results: Logit\n",
      "==================================================================\n",
      "Model:              Logit            Pseudo R-squared: 0.184      \n",
      "Dependent Variable: y                AIC:              458613.0359\n",
      "Date:               2019-09-05 11:26 BIC:              458822.3596\n",
      "No. Observations:   450016           Log-Likelihood:   -2.2929e+05\n",
      "Df Model:           18               LL-Null:          -2.8109e+05\n",
      "Df Residuals:       449997           LLR p-value:      0.0000     \n",
      "Converged:          1.0000           Scale:            1.0000     \n",
      "No. Iterations:     6.0000                                        \n",
      "--------------------------------------------------------------------\n",
      "          Coef.    Std.Err.       z       P>|z|     [0.025    0.975]\n",
      "--------------------------------------------------------------------\n",
      "x1       -0.3653     0.0081    -44.9471   0.0000   -0.3813   -0.3494\n",
      "x2       -0.2857     0.0025   -112.9531   0.0000   -0.2907   -0.2807\n",
      "x3       -0.0637     0.0081     -7.8968   0.0000   -0.0796   -0.0479\n",
      "x4        0.1248     0.0081     15.3241   0.0000    0.1089    0.1408\n",
      "x5       -0.0255     0.0032     -7.9340   0.0000   -0.0318   -0.0192\n",
      "x6        0.0000     0.0000      8.1874   0.0000    0.0000    0.0001\n",
      "x7        0.2362     0.0192     12.3259   0.0000    0.1986    0.2737\n",
      "x8        0.0660     0.0039     16.8661   0.0000    0.0584    0.0737\n",
      "x9        0.0000     0.0000      2.3884   0.0169    0.0000    0.0000\n",
      "x10       0.2527     0.0107     23.7219   0.0000    0.2319    0.2736\n",
      "x11      -0.3777     0.0106    -35.5358   0.0000   -0.3985   -0.3569\n",
      "x12      -0.0000     0.0000     -3.4943   0.0005   -0.0001   -0.0000\n",
      "x13       0.0172     0.0134      1.2848   0.1988   -0.0090    0.0434\n",
      "x14       0.1779     0.0091     19.4696   0.0000    0.1600    0.1958\n",
      "x15      -0.1131     0.0128     -8.8114   0.0000   -0.1382   -0.0879\n",
      "x16      -0.1512     0.0079    -19.1348   0.0000   -0.1667   -0.1357\n",
      "x17       1.7184     0.0089    193.7413   0.0000    1.7010    1.7358\n",
      "x18       0.0462     0.0006     73.0588   0.0000    0.0450    0.0475\n",
      "x19       0.0171     0.0005     31.9204   0.0000    0.0161    0.0182\n",
      "==================================================================\n",
      "\n"
     ]
    }
   ],
   "source": [
    "logit_model=sm.Logit(y_logistic1,X1)\n",
    "result=logit_model.fit()\n",
    "print(result.summary2())"
   ]
  },
  {
   "cell_type": "markdown",
   "metadata": {},
   "source": [
    "#### We can see that all variables have p<.05 except for 'x13' (__HCVU651_), so I'll try dropping that from the model first"
   ]
  },
  {
   "cell_type": "markdown",
   "metadata": {},
   "source": [
    "# Model fitting"
   ]
  },
  {
   "cell_type": "markdown",
   "metadata": {},
   "source": [
    "## Create two df's: X = features - target; y = only target\n",
    "\n",
    "## Then do the test/train split and fit the model"
   ]
  },
  {
   "cell_type": "code",
   "execution_count": 6,
   "metadata": {},
   "outputs": [],
   "source": [
    "X = LLCP2[['SEX','_AGE_G','_BMI5CAT','_EDUCAG','_INCOMG','_DRNKWEK','_RFDRHV5','_PACAT1','EXERANY2',\n",
    "           '_RFHLTH','EMPLOY1','VETERAN3','MARITAL','ADDEPEV2','POORHLTH',\n",
    "           'PHYSHLTH']].values\n",
    "\n",
    "y_logistic = LLCP2['MENTHLTH2'].values"
   ]
  },
  {
   "cell_type": "code",
   "execution_count": 12,
   "metadata": {},
   "outputs": [],
   "source": [
    "X_train, X_test, y_train, y_test = train_test_split(X, y_logistic, test_size=0.3, random_state=0)\n",
    "logreg = LogisticRegression(solver='liblinear')\n",
    "logreg.fit(X_train, y_train)\n",
    "y_pred = logreg.predict(X_test)\n",
    "probs = logreg.predict_proba(X_test)\n",
    "probs = probs[:,1]"
   ]
  },
  {
   "cell_type": "markdown",
   "metadata": {},
   "source": [
    "## Predicting the test set results and calculating the accuracy"
   ]
  },
  {
   "cell_type": "code",
   "execution_count": 13,
   "metadata": {},
   "outputs": [
    {
     "name": "stdout",
     "output_type": "stream",
     "text": [
      "Accuracy of logistic regression classifier on test set: 0.7619\n"
     ]
    }
   ],
   "source": [
    "y_pred = logreg.predict(X_test)\n",
    "\n",
    "print('Accuracy of logistic regression classifier on test set: {:.4f}'.format(logreg.score(X_test, y_test)))"
   ]
  },
  {
   "cell_type": "markdown",
   "metadata": {},
   "source": [
    "## Confusion Matrix"
   ]
  },
  {
   "cell_type": "code",
   "execution_count": 14,
   "metadata": {},
   "outputs": [
    {
     "name": "stdout",
     "output_type": "stream",
     "text": [
      "[[84345  7945]\n",
      " [24205 18510]]\n"
     ]
    }
   ],
   "source": [
    "from sklearn.metrics import confusion_matrix\n",
    "\n",
    "confusion_matrix = confusion_matrix(y_test, y_pred)\n",
    "print(confusion_matrix)"
   ]
  },
  {
   "cell_type": "markdown",
   "metadata": {},
   "source": [
    "### The result is telling us that we have 84345+18510 correct predictions and 24205+7945 incorrect predictions. The risk of Type 2 error (bottom left) seems a bit larger than type 1 error (top right)."
   ]
  },
  {
   "cell_type": "markdown",
   "metadata": {},
   "source": [
    "#### True positive:     84345     _(We predicted a positive result and it was positive)_\n",
    "#### True negative:    18510     _(We predicted a negative result and it was negative)_\n",
    "#### False positive:    7945       _(We predicted a positive result and it was negative)_\n",
    "#### False negative:   24205     _(We predicted a negative result and it was positive)_"
   ]
  },
  {
   "cell_type": "code",
   "execution_count": 15,
   "metadata": {},
   "outputs": [
    {
     "name": "stdout",
     "output_type": "stream",
     "text": [
      "              precision    recall  f1-score   support\n",
      "\n",
      "         0.0       0.78      0.91      0.84     92290\n",
      "         1.0       0.70      0.43      0.54     42715\n",
      "\n",
      "   micro avg       0.76      0.76      0.76    135005\n",
      "   macro avg       0.74      0.67      0.69    135005\n",
      "weighted avg       0.75      0.76      0.74    135005\n",
      "\n"
     ]
    }
   ],
   "source": [
    "from sklearn.metrics import classification_report\n",
    "\n",
    "print(classification_report(y_test, y_pred))"
   ]
  },
  {
   "cell_type": "markdown",
   "metadata": {},
   "source": [
    "### You can see above that the accuracy metrics look pretty good, at least for the 'Good Mental Health' ('0') value of the MENTHLTH target. The scores for the 'Poor Mental Health' value of '1' are much lower. This can be explained by the unbalanced nature of the data. \n",
    "\n",
    "#### If you recall from the previous 'Exploratory Analysis' file, the value count for MENTHLTH2 is unbalanced. There are roughly 300,000 rows with a '0' and about 150,000 with a '1'. Since the '0' indicates 'Good Mental Health' and has far more rows, it makes sense that the model predicts 'Good Mental Health' more accurately then 'Poor Mental Health'. \n",
    "\n",
    "#### There are ways of balancing the data, which we'll do below..."
   ]
  },
  {
   "cell_type": "markdown",
   "metadata": {},
   "source": [
    "## Receiver Operating Characteristic (ROC) Curve"
   ]
  },
  {
   "cell_type": "code",
   "execution_count": 18,
   "metadata": {},
   "outputs": [
    {
     "data": {
      "image/png": "[encoded data removed]",
      "text/plain": [
       "<Figure size 1440x720 with 1 Axes>"
      ]
     },
     "metadata": {
      "needs_background": "light"
     },
     "output_type": "display_data"
    },
    {
     "name": "stdout",
     "output_type": "stream",
     "text": [
      "AUC: 0.778\n"
     ]
    }
   ],
   "source": [
    "from sklearn.metrics import roc_auc_score\n",
    "from sklearn.metrics import roc_curve\n",
    "\n",
    "logit_roc_auc = roc_auc_score(y_test, probs)\n",
    "fpr, tpr, thresholds = roc_curve(y_test, probs)\n",
    "plt.figure(figsize=(20,10))\n",
    "plt.plot(fpr, tpr, label='Logistic Regression (area = %0.2f)' % logit_roc_auc)\n",
    "plt.plot([0, 1], [0, 1],'r--')\n",
    "plt.xlim([0.0, 1.0])\n",
    "plt.ylim([0.0, 1.05])\n",
    "plt.xlabel('False Positive Rate')\n",
    "plt.ylabel('True Positive Rate')\n",
    "plt.title('Receiver Operating Characteristic')\n",
    "plt.legend(loc=\"lower right\")\n",
    "plt.savefig('Log_ROC')\n",
    "plt.show()\n",
    "print('AUC: %.3f' % logit_roc_auc)"
   ]
  },
  {
   "cell_type": "markdown",
   "metadata": {},
   "source": [
    "#### The receiver operating characteristic (ROC) curve is tool used with binary classifiers. The dotted line represents the ROC curve of a purely random classifier; a good classifier stays as far away from that line as possible (toward the top-left corner)."
   ]
  },
  {
   "cell_type": "markdown",
   "metadata": {},
   "source": [
    "# Dealing with unbalanced data:\n",
    "\n",
    "## The data is unbalanced, indicted by three things: \n",
    "\n",
    "### (1) MENTHLTH2 value counts show twice as many '0' than '1' rows\n",
    "### (2) The accuracy scores for the '1' values are far lower than the '0', showing the model is good at predicting 'Good Mental Health', but not 'Poor Mental Health'.\n",
    "### (3) During model building, the accuracy score did not change much with the addition/sutraction of features\n",
    "\n",
    "### There are various re-sampling methods for dealing with unbalanced data. We will utilize the 'Under-sampling' technique. This technique drops rows at random from the 'majority class', or the over-represented value. In this case, the '0' rows will be dropped at random until both value's are equal. This can lead to a loss of information, if there is not enough data. Since we have almost 500,000 total rows, this should not be a significant problem. "
   ]
  },
  {
   "cell_type": "markdown",
   "metadata": {},
   "source": [
    "## First, re-check value counts for the target...you can see twice as many '0' values"
   ]
  },
  {
   "cell_type": "code",
   "execution_count": 19,
   "metadata": {},
   "outputs": [
    {
     "data": {
      "text/plain": [
       "0.0    307337\n",
       "1.0    142679\n",
       "Name: MENTHLTH2, dtype: int64"
      ]
     },
     "execution_count": 19,
     "metadata": {},
     "output_type": "execute_result"
    },
    {
     "data": {
      "image/png": "[encoded data removed]",
      "text/plain": [
       "<Figure size 432x288 with 1 Axes>"
      ]
     },
     "metadata": {
      "needs_background": "light"
     },
     "output_type": "display_data"
    }
   ],
   "source": [
    "LLCP2.MENTHLTH2.value_counts().plot(kind='bar', title='Count (MENTHLTH2)');\n",
    "LLCP2['MENTHLTH2'].value_counts()"
   ]
  },
  {
   "cell_type": "markdown",
   "metadata": {},
   "source": [
    "## Now, we want to divide the target by value"
   ]
  },
  {
   "cell_type": "code",
   "execution_count": 20,
   "metadata": {},
   "outputs": [],
   "source": [
    "# Class count\n",
    "count_class_0, count_class_1 = LLCP2.MENTHLTH2.value_counts()\n",
    "\n",
    "# Divide by class\n",
    "Good_MH = LLCP2[LLCP2['MENTHLTH2'] == 0]\n",
    "Poor_MH = LLCP2[LLCP2['MENTHLTH2'] == 1]"
   ]
  },
  {
   "cell_type": "markdown",
   "metadata": {},
   "source": [
    "## Now we undersample and concatenate back together. Then re-check to value counts. They are equal now, and we still have 142,679 rows to work with. "
   ]
  },
  {
   "cell_type": "code",
   "execution_count": 21,
   "metadata": {},
   "outputs": [
    {
     "name": "stdout",
     "output_type": "stream",
     "text": [
      "Random under-sampling:\n",
      "1.0    142679\n",
      "0.0    142679\n",
      "Name: MENTHLTH2, dtype: int64\n"
     ]
    },
    {
     "data": {
      "image/png": "[encoded data removed]",
      "text/plain": [
       "<Figure size 432x288 with 1 Axes>"
      ]
     },
     "metadata": {
      "needs_background": "light"
     },
     "output_type": "display_data"
    }
   ],
   "source": [
    "Good_MH_under = Good_MH.sample(count_class_1)\n",
    "LLCP2_under = pd.concat([Good_MH_under, Poor_MH], axis=0)\n",
    "\n",
    "print('Random under-sampling:')\n",
    "print(LLCP2_under.MENTHLTH2.value_counts())\n",
    "\n",
    "LLCP2_under.MENTHLTH2.value_counts().plot(kind='bar', title='Count (MENTHLTH2)');"
   ]
  },
  {
   "cell_type": "code",
   "execution_count": 22,
   "metadata": {},
   "outputs": [
    {
     "data": {
      "text/html": [
       "<div>\n",
       "<style scoped>\n",
       "    .dataframe tbody tr th:only-of-type {\n",
       "        vertical-align: middle;\n",
       "    }\n",
       "\n",
       "    .dataframe tbody tr th {\n",
       "        vertical-align: top;\n",
       "    }\n",
       "\n",
       "    .dataframe thead th {\n",
       "        text-align: right;\n",
       "    }\n",
       "</style>\n",
       "<table border=\"1\" class=\"dataframe\">\n",
       "  <thead>\n",
       "    <tr style=\"text-align: right;\">\n",
       "      <th></th>\n",
       "      <th>SEX</th>\n",
       "      <th>_AGE_G</th>\n",
       "      <th>_BMI5CAT</th>\n",
       "      <th>_EDUCAG</th>\n",
       "      <th>_INCOMG</th>\n",
       "      <th>_DRNKWEK</th>\n",
       "      <th>_RFDRHV5</th>\n",
       "      <th>_PACAT1</th>\n",
       "      <th>PA1MIN_</th>\n",
       "      <th>EXERANY2</th>\n",
       "      <th>_RFHLTH</th>\n",
       "      <th>_VEGESU1</th>\n",
       "      <th>_HCVU651</th>\n",
       "      <th>EMPLOY1</th>\n",
       "      <th>VETERAN3</th>\n",
       "      <th>MARITAL</th>\n",
       "      <th>ADDEPEV2</th>\n",
       "      <th>POORHLTH</th>\n",
       "      <th>PHYSHLTH</th>\n",
       "      <th>MENTHLTH</th>\n",
       "      <th>MENTHLTH2</th>\n",
       "    </tr>\n",
       "  </thead>\n",
       "  <tbody>\n",
       "    <tr>\n",
       "      <th>265697</th>\n",
       "      <td>0.0</td>\n",
       "      <td>5.0</td>\n",
       "      <td>1.0</td>\n",
       "      <td>0.0</td>\n",
       "      <td>4.0</td>\n",
       "      <td>5.397605e-79</td>\n",
       "      <td>0.0</td>\n",
       "      <td>4.0</td>\n",
       "      <td>270.0</td>\n",
       "      <td>0.0</td>\n",
       "      <td>0.0</td>\n",
       "      <td>160.0</td>\n",
       "      <td>1.0</td>\n",
       "      <td>0.0</td>\n",
       "      <td>0.0</td>\n",
       "      <td>0.0</td>\n",
       "      <td>0.0</td>\n",
       "      <td>0.0</td>\n",
       "      <td>0.0</td>\n",
       "      <td>0.0</td>\n",
       "      <td>0.0</td>\n",
       "    </tr>\n",
       "    <tr>\n",
       "      <th>448607</th>\n",
       "      <td>0.0</td>\n",
       "      <td>5.0</td>\n",
       "      <td>1.0</td>\n",
       "      <td>0.0</td>\n",
       "      <td>1.0</td>\n",
       "      <td>5.397605e-79</td>\n",
       "      <td>0.0</td>\n",
       "      <td>4.0</td>\n",
       "      <td>270.0</td>\n",
       "      <td>0.0</td>\n",
       "      <td>0.0</td>\n",
       "      <td>175.0</td>\n",
       "      <td>0.0</td>\n",
       "      <td>0.0</td>\n",
       "      <td>0.0</td>\n",
       "      <td>1.0</td>\n",
       "      <td>0.0</td>\n",
       "      <td>10.0</td>\n",
       "      <td>15.0</td>\n",
       "      <td>0.0</td>\n",
       "      <td>0.0</td>\n",
       "    </tr>\n",
       "    <tr>\n",
       "      <th>206241</th>\n",
       "      <td>1.0</td>\n",
       "      <td>6.0</td>\n",
       "      <td>1.0</td>\n",
       "      <td>1.0</td>\n",
       "      <td>5.0</td>\n",
       "      <td>7.000000e+01</td>\n",
       "      <td>0.0</td>\n",
       "      <td>1.0</td>\n",
       "      <td>1020.0</td>\n",
       "      <td>1.0</td>\n",
       "      <td>1.0</td>\n",
       "      <td>158.0</td>\n",
       "      <td>1.0</td>\n",
       "      <td>1.0</td>\n",
       "      <td>1.0</td>\n",
       "      <td>1.0</td>\n",
       "      <td>0.0</td>\n",
       "      <td>0.0</td>\n",
       "      <td>0.0</td>\n",
       "      <td>0.0</td>\n",
       "      <td>0.0</td>\n",
       "    </tr>\n",
       "    <tr>\n",
       "      <th>136803</th>\n",
       "      <td>0.0</td>\n",
       "      <td>6.0</td>\n",
       "      <td>1.0</td>\n",
       "      <td>0.0</td>\n",
       "      <td>2.0</td>\n",
       "      <td>5.397605e-79</td>\n",
       "      <td>0.0</td>\n",
       "      <td>4.0</td>\n",
       "      <td>270.0</td>\n",
       "      <td>0.0</td>\n",
       "      <td>1.0</td>\n",
       "      <td>200.0</td>\n",
       "      <td>1.0</td>\n",
       "      <td>1.0</td>\n",
       "      <td>1.0</td>\n",
       "      <td>0.0</td>\n",
       "      <td>0.0</td>\n",
       "      <td>0.0</td>\n",
       "      <td>0.0</td>\n",
       "      <td>0.0</td>\n",
       "      <td>0.0</td>\n",
       "    </tr>\n",
       "    <tr>\n",
       "      <th>75953</th>\n",
       "      <td>1.0</td>\n",
       "      <td>4.0</td>\n",
       "      <td>1.0</td>\n",
       "      <td>0.0</td>\n",
       "      <td>3.0</td>\n",
       "      <td>5.397605e-79</td>\n",
       "      <td>0.0</td>\n",
       "      <td>2.0</td>\n",
       "      <td>270.0</td>\n",
       "      <td>1.0</td>\n",
       "      <td>1.0</td>\n",
       "      <td>101.0</td>\n",
       "      <td>1.0</td>\n",
       "      <td>1.0</td>\n",
       "      <td>0.0</td>\n",
       "      <td>1.0</td>\n",
       "      <td>0.0</td>\n",
       "      <td>0.0</td>\n",
       "      <td>0.0</td>\n",
       "      <td>0.0</td>\n",
       "      <td>0.0</td>\n",
       "    </tr>\n",
       "  </tbody>\n",
       "</table>\n",
       "</div>"
      ],
      "text/plain": [
       "        SEX  _AGE_G  _BMI5CAT  _EDUCAG  _INCOMG      _DRNKWEK  _RFDRHV5  \\\n",
       "265697  0.0     5.0       1.0      0.0      4.0  5.397605e-79       0.0   \n",
       "448607  0.0     5.0       1.0      0.0      1.0  5.397605e-79       0.0   \n",
       "206241  1.0     6.0       1.0      1.0      5.0  7.000000e+01       0.0   \n",
       "136803  0.0     6.0       1.0      0.0      2.0  5.397605e-79       0.0   \n",
       "75953   1.0     4.0       1.0      0.0      3.0  5.397605e-79       0.0   \n",
       "\n",
       "        _PACAT1  PA1MIN_  EXERANY2  _RFHLTH  _VEGESU1  _HCVU651  EMPLOY1  \\\n",
       "265697      4.0    270.0       0.0      0.0     160.0       1.0      0.0   \n",
       "448607      4.0    270.0       0.0      0.0     175.0       0.0      0.0   \n",
       "206241      1.0   1020.0       1.0      1.0     158.0       1.0      1.0   \n",
       "136803      4.0    270.0       0.0      1.0     200.0       1.0      1.0   \n",
       "75953       2.0    270.0       1.0      1.0     101.0       1.0      1.0   \n",
       "\n",
       "        VETERAN3  MARITAL  ADDEPEV2  POORHLTH  PHYSHLTH  MENTHLTH  MENTHLTH2  \n",
       "265697       0.0      0.0       0.0       0.0       0.0       0.0        0.0  \n",
       "448607       0.0      1.0       0.0      10.0      15.0       0.0        0.0  \n",
       "206241       1.0      1.0       0.0       0.0       0.0       0.0        0.0  \n",
       "136803       1.0      0.0       0.0       0.0       0.0       0.0        0.0  \n",
       "75953        0.0      1.0       0.0       0.0       0.0       0.0        0.0  "
      ]
     },
     "execution_count": 22,
     "metadata": {},
     "output_type": "execute_result"
    }
   ],
   "source": [
    "LLCP2_under.head()"
   ]
  },
  {
   "cell_type": "markdown",
   "metadata": {},
   "source": [
    "## Now let's use the new df (LLCP2_under) to model build, as before."
   ]
  },
  {
   "cell_type": "code",
   "execution_count": 23,
   "metadata": {},
   "outputs": [],
   "source": [
    "#Full Model before backward elimination\n",
    "#X2 = LLCP2_under[['SEX','_AGE_G','_BMI5CAT','_EDUCAG','_INCOMG','_DRNKWEK','_RFDRHV5','_PACAT1','PA1MIN_',\n",
    "                 #'EXERANY2','_RFHLTH','_VEGESU1','_HCVU651','EMPLOY1','VETERAN3','MARITAL','ADDEPEV2',\n",
    "                 #'POORHLTH','PHYSHLTH']].values\n",
    "        \n",
    "\n",
    "#FINAL model after backward elim: dropped '_INCOMG','_PACAT1','PA1MIN_','EXERANY2','_VEGESU1', and '_HCVU651'\n",
    "X2 = LLCP2_under[['SEX','_AGE_G','_BMI5CAT','_EDUCAG','_DRNKWEK','_RFDRHV5','EXERANY2','_RFHLTH','EMPLOY1',\n",
    "                  'VETERAN3','MARITAL','ADDEPEV2','POORHLTH','PHYSHLTH']].values\n",
    "\n",
    "y_logistic2 = LLCP2_under['MENTHLTH2'].values"
   ]
  },
  {
   "cell_type": "code",
   "execution_count": 24,
   "metadata": {},
   "outputs": [],
   "source": [
    "X_train, X_test, y_train, y_test = train_test_split(X2, y_logistic2, test_size=0.3, random_state=0)\n",
    "logreg2 = LogisticRegression(solver='liblinear')\n",
    "logreg2.fit(X_train, y_train)\n",
    "y_pred = logreg2.predict(X_test)\n",
    "probs = logreg2.predict_proba(X_test)\n",
    "probs = probs[:,1]"
   ]
  },
  {
   "cell_type": "markdown",
   "metadata": {},
   "source": [
    "## Model accuracy\n",
    "\n",
    "### We see the model accuracy score dropped a little bit, but it's still decent. Let's look closer."
   ]
  },
  {
   "cell_type": "code",
   "execution_count": 25,
   "metadata": {},
   "outputs": [
    {
     "name": "stdout",
     "output_type": "stream",
     "text": [
      "Accuracy of logistic regression classifier on test set: 0.7043\n"
     ]
    }
   ],
   "source": [
    "y_pred = logreg2.predict(X_test)\n",
    "\n",
    "print('Accuracy of logistic regression classifier on test set: {:.4f}'.format(logreg2.score(X_test, y_test)))"
   ]
  },
  {
   "cell_type": "markdown",
   "metadata": {},
   "source": [
    "## Confusion Matrix"
   ]
  },
  {
   "cell_type": "code",
   "execution_count": 26,
   "metadata": {},
   "outputs": [
    {
     "name": "stdout",
     "output_type": "stream",
     "text": [
      "[[33048  9657]\n",
      " [15654 27249]]\n"
     ]
    }
   ],
   "source": [
    "from sklearn.metrics import confusion_matrix\n",
    "\n",
    "confusion_matrix = confusion_matrix(y_test, y_pred)\n",
    "print(confusion_matrix)"
   ]
  },
  {
   "cell_type": "markdown",
   "metadata": {},
   "source": [
    "#### True positive:    33048     _(We predicted a positive result and it was positive)_\n",
    "#### True negative:    27249     _(We predicted a negative result and it was negative)_\n",
    "#### False positive:   9657      _(We predicted a positive result and it was negative)_\n",
    "#### False negative:   15654     _(We predicted a negative result and it was positive)_\n",
    "\n",
    "#### So, this model makes more correct predictions, than not and the false negative rate seems a bit higher than the false positive"
   ]
  },
  {
   "cell_type": "markdown",
   "metadata": {},
   "source": [
    "## Check the precision, recall, and F1 scores"
   ]
  },
  {
   "cell_type": "code",
   "execution_count": 30,
   "metadata": {},
   "outputs": [
    {
     "name": "stdout",
     "output_type": "stream",
     "text": [
      "[[33048  9657]\n",
      " [15654 27249]]\n",
      "              precision    recall  f1-score   support\n",
      "\n",
      "         0.0       0.68      0.77      0.72     42705\n",
      "         1.0       0.74      0.64      0.68     42903\n",
      "\n",
      "   micro avg       0.70      0.70      0.70     85608\n",
      "   macro avg       0.71      0.70      0.70     85608\n",
      "weighted avg       0.71      0.70      0.70     85608\n",
      "\n",
      "0.7043383795906925\n"
     ]
    }
   ],
   "source": [
    "from sklearn.metrics import classification_report, confusion_matrix, accuracy_score\n",
    "\n",
    "print(confusion_matrix(y_test,y_pred))\n",
    "print(classification_report(y_test,y_pred))\n",
    "print(accuracy_score(y_test, y_pred))"
   ]
  },
  {
   "cell_type": "markdown",
   "metadata": {},
   "source": [
    "### Above, we that our metrics have been lowered a bit after undersampling, however, the scores for 'poor mental health'  ('0) have been raised and are similar to 'good mental heath' ('1'). This is a much better and more balanced model than before the undersampling."
   ]
  },
  {
   "cell_type": "code",
   "execution_count": 28,
   "metadata": {},
   "outputs": [
    {
     "data": {
      "image/png": "[encoded data removed]",
      "text/plain": [
       "<Figure size 1440x720 with 1 Axes>"
      ]
     },
     "metadata": {
      "needs_background": "light"
     },
     "output_type": "display_data"
    },
    {
     "name": "stdout",
     "output_type": "stream",
     "text": [
      "AUC: 0.774\n"
     ]
    }
   ],
   "source": [
    "logit_roc_auc = roc_auc_score(y_test, probs)\n",
    "fpr, tpr, thresholds = roc_curve(y_test, probs)\n",
    "plt.figure(figsize=(20,10))\n",
    "plt.plot(fpr, tpr, label='Logistic Regression (area = %0.2f)' % logit_roc_auc)\n",
    "plt.plot([0, 1], [0, 1],'r--')\n",
    "plt.xlim([0.0, 1.0])\n",
    "plt.ylim([0.0, 1.05])\n",
    "plt.xlabel('False Positive Rate')\n",
    "plt.ylabel('True Positive Rate')\n",
    "plt.title('Receiver Operating Characteristic')\n",
    "plt.legend(loc=\"lower right\")\n",
    "plt.savefig('Log_ROC')\n",
    "plt.show()\n",
    "print('AUC: %.3f' % logit_roc_auc)"
   ]
  },
  {
   "cell_type": "markdown",
   "metadata": {},
   "source": [
    "### The ROC curve for this model looks pretty good"
   ]
  },
  {
   "cell_type": "code",
   "execution_count": null,
   "metadata": {},
   "outputs": [],
   "source": []
  }
 ],
 "metadata": {
  "kernelspec": {
   "display_name": "Python 3",
   "language": "python",
   "name": "python3"
  },
  "language_info": {
   "codemirror_mode": {
    "name": "ipython",
    "version": 3
   },
   "file_extension": ".py",
   "mimetype": "text/x-python",
   "name": "python",
   "nbconvert_exporter": "python",
   "pygments_lexer": "ipython3",
   "version": "3.7.3"
  }
 },
 "nbformat": 4,
 "nbformat_minor": 2
}
