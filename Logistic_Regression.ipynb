{
 "cells": [
  {
   "cell_type": "markdown",
   "metadata": {},
   "source": [
    "# **Logistic Regression Model**"
   ]
  },
  {
   "cell_type": "markdown",
   "metadata": {},
   "source": [
    "## We're using annual survey data from the CDC to predict risk for mental health problems. These are self-report measures. There are a number of features that we will use in order to predict whether or not someone will experience mental health problems over a particular month-long period. "
   ]
  },
  {
   "cell_type": "markdown",
   "metadata": {},
   "source": [
    "## Install libraries"
   ]
  },
  {
   "cell_type": "code",
   "execution_count": 1,
   "metadata": {},
   "outputs": [],
   "source": [
    "import pandas as pd\n",
    "import numpy as np\n",
    "import matplotlib\n",
    "import matplotlib.pyplot as plt\n",
    "import seaborn as sns\n",
    "%matplotlib inline\n",
    "from scipy import stats\n",
    "from sklearn.model_selection import train_test_split \n",
    "from sklearn.linear_model import LinearRegression\n",
    "from sklearn.linear_model import LogisticRegression\n",
    "from sklearn import metrics\n",
    "from sklearn.metrics import r2_score\n",
    "import statsmodels.api as sm\n",
    "from sklearn.feature_selection import RFE\n",
    "from sklearn.linear_model import RidgeCV, LassoCV, Ridge, Lasso"
   ]
  },
  {
   "cell_type": "markdown",
   "metadata": {},
   "source": [
    "## Read in the data"
   ]
  },
  {
   "cell_type": "code",
   "execution_count": 2,
   "metadata": {},
   "outputs": [
    {
     "data": {
      "text/html": [
       "<div>\n",
       "<style scoped>\n",
       "    .dataframe tbody tr th:only-of-type {\n",
       "        vertical-align: middle;\n",
       "    }\n",
       "\n",
       "    .dataframe tbody tr th {\n",
       "        vertical-align: top;\n",
       "    }\n",
       "\n",
       "    .dataframe thead th {\n",
       "        text-align: right;\n",
       "    }\n",
       "</style>\n",
       "<table border=\"1\" class=\"dataframe\">\n",
       "  <thead>\n",
       "    <tr style=\"text-align: right;\">\n",
       "      <th></th>\n",
       "      <th>SEX</th>\n",
       "      <th>_AGE_G</th>\n",
       "      <th>_BMI5CAT</th>\n",
       "      <th>_EDUCAG</th>\n",
       "      <th>_INCOMG</th>\n",
       "      <th>_RFDRHV5</th>\n",
       "      <th>_PACAT1</th>\n",
       "      <th>_RFHLTH</th>\n",
       "      <th>_HCVU651</th>\n",
       "      <th>EMPLOY1</th>\n",
       "      <th>VETERAN3</th>\n",
       "      <th>MARITAL</th>\n",
       "      <th>ADDEPEV2</th>\n",
       "      <th>POORHLTH</th>\n",
       "      <th>PHYSHLTH</th>\n",
       "      <th>MENTHLTH</th>\n",
       "      <th>MENTHLTH2</th>\n",
       "    </tr>\n",
       "  </thead>\n",
       "  <tbody>\n",
       "    <tr>\n",
       "      <th>0</th>\n",
       "      <td>0.0</td>\n",
       "      <td>6.0</td>\n",
       "      <td>1.0</td>\n",
       "      <td>1.0</td>\n",
       "      <td>4.0</td>\n",
       "      <td>0.0</td>\n",
       "      <td>1.0</td>\n",
       "      <td>1.0</td>\n",
       "      <td>1.0</td>\n",
       "      <td>0.0</td>\n",
       "      <td>1.0</td>\n",
       "      <td>0.0</td>\n",
       "      <td>0.0</td>\n",
       "      <td>0.0</td>\n",
       "      <td>0.0</td>\n",
       "      <td>0.0</td>\n",
       "      <td>0.0</td>\n",
       "    </tr>\n",
       "    <tr>\n",
       "      <th>1</th>\n",
       "      <td>1.0</td>\n",
       "      <td>6.0</td>\n",
       "      <td>1.0</td>\n",
       "      <td>1.0</td>\n",
       "      <td>5.0</td>\n",
       "      <td>0.0</td>\n",
       "      <td>1.0</td>\n",
       "      <td>1.0</td>\n",
       "      <td>1.0</td>\n",
       "      <td>0.0</td>\n",
       "      <td>0.0</td>\n",
       "      <td>1.0</td>\n",
       "      <td>0.0</td>\n",
       "      <td>0.0</td>\n",
       "      <td>0.0</td>\n",
       "      <td>0.0</td>\n",
       "      <td>0.0</td>\n",
       "    </tr>\n",
       "    <tr>\n",
       "      <th>2</th>\n",
       "      <td>1.0</td>\n",
       "      <td>6.0</td>\n",
       "      <td>1.0</td>\n",
       "      <td>0.0</td>\n",
       "      <td>4.0</td>\n",
       "      <td>0.0</td>\n",
       "      <td>4.0</td>\n",
       "      <td>1.0</td>\n",
       "      <td>1.0</td>\n",
       "      <td>0.0</td>\n",
       "      <td>0.0</td>\n",
       "      <td>1.0</td>\n",
       "      <td>0.0</td>\n",
       "      <td>0.0</td>\n",
       "      <td>0.0</td>\n",
       "      <td>0.0</td>\n",
       "      <td>0.0</td>\n",
       "    </tr>\n",
       "    <tr>\n",
       "      <th>3</th>\n",
       "      <td>0.0</td>\n",
       "      <td>6.0</td>\n",
       "      <td>1.0</td>\n",
       "      <td>0.0</td>\n",
       "      <td>1.0</td>\n",
       "      <td>0.0</td>\n",
       "      <td>2.0</td>\n",
       "      <td>0.0</td>\n",
       "      <td>1.0</td>\n",
       "      <td>0.0</td>\n",
       "      <td>0.0</td>\n",
       "      <td>0.0</td>\n",
       "      <td>1.0</td>\n",
       "      <td>0.0</td>\n",
       "      <td>0.0</td>\n",
       "      <td>0.0</td>\n",
       "      <td>0.0</td>\n",
       "    </tr>\n",
       "    <tr>\n",
       "      <th>4</th>\n",
       "      <td>0.0</td>\n",
       "      <td>6.0</td>\n",
       "      <td>0.0</td>\n",
       "      <td>0.0</td>\n",
       "      <td>1.0</td>\n",
       "      <td>0.0</td>\n",
       "      <td>4.0</td>\n",
       "      <td>0.0</td>\n",
       "      <td>1.0</td>\n",
       "      <td>0.0</td>\n",
       "      <td>0.0</td>\n",
       "      <td>0.0</td>\n",
       "      <td>0.0</td>\n",
       "      <td>14.0</td>\n",
       "      <td>14.0</td>\n",
       "      <td>0.0</td>\n",
       "      <td>0.0</td>\n",
       "    </tr>\n",
       "  </tbody>\n",
       "</table>\n",
       "</div>"
      ],
      "text/plain": [
       "   SEX  _AGE_G  _BMI5CAT  _EDUCAG  _INCOMG  _RFDRHV5  _PACAT1  _RFHLTH  \\\n",
       "0  0.0     6.0       1.0      1.0      4.0       0.0      1.0      1.0   \n",
       "1  1.0     6.0       1.0      1.0      5.0       0.0      1.0      1.0   \n",
       "2  1.0     6.0       1.0      0.0      4.0       0.0      4.0      1.0   \n",
       "3  0.0     6.0       1.0      0.0      1.0       0.0      2.0      0.0   \n",
       "4  0.0     6.0       0.0      0.0      1.0       0.0      4.0      0.0   \n",
       "\n",
       "   _HCVU651  EMPLOY1  VETERAN3  MARITAL  ADDEPEV2  POORHLTH  PHYSHLTH  \\\n",
       "0       1.0      0.0       1.0      0.0       0.0       0.0       0.0   \n",
       "1       1.0      0.0       0.0      1.0       0.0       0.0       0.0   \n",
       "2       1.0      0.0       0.0      1.0       0.0       0.0       0.0   \n",
       "3       1.0      0.0       0.0      0.0       1.0       0.0       0.0   \n",
       "4       1.0      0.0       0.0      0.0       0.0      14.0      14.0   \n",
       "\n",
       "   MENTHLTH  MENTHLTH2  \n",
       "0       0.0        0.0  \n",
       "1       0.0        0.0  \n",
       "2       0.0        0.0  \n",
       "3       0.0        0.0  \n",
       "4       0.0        0.0  "
      ]
     },
     "execution_count": 2,
     "metadata": {},
     "output_type": "execute_result"
    }
   ],
   "source": [
    "pd.set_option('display.max_columns', 50)\n",
    "LLCP2 = pd.read_csv(r'C:\\Users\\Nick\\Desktop\\GitProjects\\LLCP_Project\\LLCP2.csv')\n",
    "LLCP2.head()"
   ]
  },
  {
   "cell_type": "markdown",
   "metadata": {},
   "source": [
    "## Let's run a full logistic regression model first"
   ]
  },
  {
   "cell_type": "code",
   "execution_count": 3,
   "metadata": {},
   "outputs": [],
   "source": [
    "X1 = LLCP2[['SEX','_AGE_G','_BMI5CAT','_EDUCAG','_INCOMG','_RFDRHV5','_PACAT1','_RFHLTH','_HCVU651','EMPLOY1',\n",
    "            'VETERAN3','MARITAL','ADDEPEV2','POORHLTH','PHYSHLTH']].values\n",
    "\n",
    "y_logistic = LLCP2['MENTHLTH2'].values"
   ]
  },
  {
   "cell_type": "code",
   "execution_count": 4,
   "metadata": {},
   "outputs": [
    {
     "name": "stdout",
     "output_type": "stream",
     "text": [
      "Optimization terminated successfully.\n",
      "         Current function value: 0.510215\n",
      "         Iterations 6\n",
      "                          Results: Logit\n",
      "==================================================================\n",
      "Model:              Logit            Pseudo R-squared: 0.183      \n",
      "Dependent Variable: y                AIC:              459239.8121\n",
      "Date:               2019-09-06 18:59 BIC:              459405.0677\n",
      "No. Observations:   450016           Log-Likelihood:   -2.2960e+05\n",
      "Df Model:           14               LL-Null:          -2.8109e+05\n",
      "Df Residuals:       450001           LLR p-value:      0.0000     \n",
      "Converged:          1.0000           Scale:            1.0000     \n",
      "No. Iterations:     6.0000                                        \n",
      "--------------------------------------------------------------------\n",
      "          Coef.    Std.Err.       z       P>|z|     [0.025    0.975]\n",
      "--------------------------------------------------------------------\n",
      "x1       -0.3335     0.0080    -41.8410   0.0000   -0.3491   -0.3179\n",
      "x2       -0.2715     0.0024   -111.9938   0.0000   -0.2762   -0.2667\n",
      "x3       -0.0404     0.0080     -5.0337   0.0000   -0.0561   -0.0246\n",
      "x4        0.1246     0.0081     15.3412   0.0000    0.1087    0.1406\n",
      "x5       -0.0098     0.0031     -3.1250   0.0018   -0.0160   -0.0037\n",
      "x6        0.3308     0.0154     21.5077   0.0000    0.3007    0.3610\n",
      "x7        0.0099     0.0030      3.2721   0.0011    0.0040    0.0158\n",
      "x8       -0.3039     0.0101    -29.9417   0.0000   -0.3238   -0.2840\n",
      "x9        0.1050     0.0129      8.1352   0.0000    0.0797    0.1302\n",
      "x10       0.2239     0.0089     25.0936   0.0000    0.2064    0.2414\n",
      "x11      -0.1290     0.0128    -10.0855   0.0000   -0.1541   -0.1040\n",
      "x12      -0.1605     0.0079    -20.3429   0.0000   -0.1760   -0.1450\n",
      "x13       1.7330     0.0088    196.4360   0.0000    1.7157    1.7503\n",
      "x14       0.0468     0.0006     74.1480   0.0000    0.0456    0.0480\n",
      "x15       0.0182     0.0005     34.1924   0.0000    0.0172    0.0193\n",
      "==================================================================\n",
      "\n"
     ]
    }
   ],
   "source": [
    "logit_model=sm.Logit(y_logistic,X1)\n",
    "result=logit_model.fit()\n",
    "print(result.summary2())"
   ]
  },
  {
   "cell_type": "markdown",
   "metadata": {},
   "source": [
    "#### We can see that all variables have p<.05."
   ]
  },
  {
   "cell_type": "markdown",
   "metadata": {},
   "source": [
    "# Model fitting"
   ]
  },
  {
   "cell_type": "markdown",
   "metadata": {},
   "source": [
    "## Create two df's: X = features - target; y = only target\n",
    "\n",
    "## Then do the test/train split and fit the model"
   ]
  },
  {
   "cell_type": "code",
   "execution_count": 5,
   "metadata": {},
   "outputs": [],
   "source": [
    "X = LLCP2[['SEX','_AGE_G','_BMI5CAT','_EDUCAG','_INCOMG','_RFDRHV5','_PACAT1','_RFHLTH','_HCVU651','EMPLOY1',\n",
    "           'VETERAN3','MARITAL','ADDEPEV2','POORHLTH','PHYSHLTH']].values\n",
    "\n",
    "y = LLCP2['MENTHLTH2'].values"
   ]
  },
  {
   "cell_type": "code",
   "execution_count": 6,
   "metadata": {},
   "outputs": [
    {
     "name": "stdout",
     "output_type": "stream",
     "text": [
      "Number of rows/columns in X_test dataset:  (135005, 15)\n",
      "Number of rows/columns in y_test dataset:  (135005,)\n",
      "Number of rows/columns in X_train dataset:  (315011, 15)\n",
      "Number of rows/columns in y_train dataset:  (315011,)\n"
     ]
    }
   ],
   "source": [
    "X_train, X_test, y_train, y_test = train_test_split(X, y, test_size=0.3, random_state=0)\n",
    "logreg = LogisticRegression(solver='liblinear')\n",
    "logreg.fit(X_train, y_train)\n",
    "y_pred = logreg.predict(X_test)\n",
    "probs = logreg.predict_proba(X_test)\n",
    "probs = probs[:,1]\n",
    "\n",
    "# describes info about train and test set \n",
    "print(\"Number of rows/columns in X_test dataset: \", X_test.shape) \n",
    "print(\"Number of rows/columns in y_test dataset: \", y_test.shape) \n",
    "print(\"Number of rows/columns in X_train dataset: \", X_train.shape) \n",
    "print(\"Number of rows/columns in y_train dataset: \", y_train.shape) "
   ]
  },
  {
   "cell_type": "markdown",
   "metadata": {},
   "source": [
    "## Predicting the test set results and calculating the accuracy"
   ]
  },
  {
   "cell_type": "code",
   "execution_count": 7,
   "metadata": {},
   "outputs": [
    {
     "name": "stdout",
     "output_type": "stream",
     "text": [
      "Accuracy of logistic regression classifier on test set: 0.7620\n"
     ]
    }
   ],
   "source": [
    "y_pred = logreg.predict(X_test)\n",
    "\n",
    "print('Accuracy of logistic regression classifier on test set: {:.4f}'.format(logreg.score(X_test, y_test)))"
   ]
  },
  {
   "cell_type": "markdown",
   "metadata": {},
   "source": [
    "## Confusion Matrix"
   ]
  },
  {
   "cell_type": "code",
   "execution_count": 8,
   "metadata": {},
   "outputs": [
    {
     "name": "stdout",
     "output_type": "stream",
     "text": [
      "[[84398  7892]\n",
      " [24240 18475]]\n"
     ]
    }
   ],
   "source": [
    "from sklearn.metrics import confusion_matrix\n",
    "\n",
    "confusion_matrix = confusion_matrix(y_test, y_pred)\n",
    "print(confusion_matrix)"
   ]
  },
  {
   "cell_type": "markdown",
   "metadata": {},
   "source": [
    "### The risk of Type 2 error (bottom left) seems a bit larger than type 1 error (top right)."
   ]
  },
  {
   "cell_type": "markdown",
   "metadata": {},
   "source": [
    "#### True positive:     84398     _(We predicted a positive result and it was positive)_\n",
    "#### True negative:    18475     _(We predicted a negative result and it was negative)_\n",
    "#### False positive:    7892       _(We predicted a positive result and it was negative)_\n",
    "#### False negative:   24240     _(We predicted a negative result and it was positive)_"
   ]
  },
  {
   "cell_type": "code",
   "execution_count": 9,
   "metadata": {},
   "outputs": [
    {
     "name": "stdout",
     "output_type": "stream",
     "text": [
      "              precision    recall  f1-score   support\n",
      "\n",
      "         0.0       0.78      0.91      0.84     92290\n",
      "         1.0       0.70      0.43      0.53     42715\n",
      "\n",
      "   micro avg       0.76      0.76      0.76    135005\n",
      "   macro avg       0.74      0.67      0.69    135005\n",
      "weighted avg       0.75      0.76      0.74    135005\n",
      "\n"
     ]
    }
   ],
   "source": [
    "from sklearn.metrics import classification_report\n",
    "\n",
    "print(classification_report(y_test, y_pred))"
   ]
  },
  {
   "cell_type": "markdown",
   "metadata": {},
   "source": [
    "### You can see above that the accuracy metrics look pretty good, at least for the 'Good Mental Health' ('0') value of the MENTHLTH target. The scores for the 'Poor Mental Health' value of '1' are much lower. This can be explained by the imbalanced nature of the data. \n",
    "\n",
    "#### If you recall from the previous 'Exploratory Analysis' file, the value count for MENTHLTH2 is imbalanced. There are roughly 300,000 rows with a '0' and about 150,000 with a '1'. Since the '0' indicates 'Good Mental Health' and has far more rows, it makes sense that the model predicts 'Good Mental Health' more accurately then 'Poor Mental Health'. \n",
    "\n",
    "#### There are ways of balancing the data, which we'll do below..."
   ]
  },
  {
   "cell_type": "markdown",
   "metadata": {},
   "source": [
    "## Receiver Operating Characteristic (ROC) Curve"
   ]
  },
  {
   "cell_type": "code",
   "execution_count": 10,
   "metadata": {},
   "outputs": [
    {
     "data": {
      "image/png": "[encoded data removed]",
      "text/plain": [
       "<Figure size 1440x720 with 1 Axes>"
      ]
     },
     "metadata": {
      "needs_background": "light"
     },
     "output_type": "display_data"
    },
    {
     "name": "stdout",
     "output_type": "stream",
     "text": [
      "AUC: 0.778\n"
     ]
    }
   ],
   "source": [
    "from sklearn.metrics import roc_auc_score\n",
    "from sklearn.metrics import roc_curve\n",
    "\n",
    "logit_roc_auc = roc_auc_score(y_test, probs)\n",
    "fpr, tpr, thresholds = roc_curve(y_test, probs)\n",
    "plt.figure(figsize=(20,10))\n",
    "plt.plot(fpr, tpr, label='Logistic Regression (area = %0.2f)' % logit_roc_auc)\n",
    "plt.plot([0, 1], [0, 1],'r--')\n",
    "plt.xlim([0.0, 1.0])\n",
    "plt.ylim([0.0, 1.05])\n",
    "plt.xlabel('False Positive Rate')\n",
    "plt.ylabel('True Positive Rate')\n",
    "plt.title('Receiver Operating Characteristic')\n",
    "plt.legend(loc=\"lower right\")\n",
    "plt.savefig('Log_ROC')\n",
    "plt.show()\n",
    "print('AUC: %.3f' % logit_roc_auc)"
   ]
  },
  {
   "cell_type": "markdown",
   "metadata": {},
   "source": [
    "#### The receiver operating characteristic (ROC) curve is tool used with binary classifiers. The dotted line represents the ROC curve of a purely random classifier; a good classifier stays as far away from that line as possible (toward the top-left corner)."
   ]
  },
  {
   "cell_type": "markdown",
   "metadata": {},
   "source": [
    "# Dealing with unbalanced data:\n",
    "\n",
    "## The data is unbalanced, indicted by 2 things: \n",
    "\n",
    "### (1) MENTHLTH2 value counts show twice as many '0' than '1' rows\n",
    "### (2) The accuracy scores for the '1' values are far lower than the '0', showing the model is good at predicting 'Good Mental Health', but not 'Poor Mental Health'.\n",
    "\n",
    "### There are various re-sampling methods for dealing with unbalanced data. We will utilize the 'Under/Over-sampling' techniques. This technique drops rows at random from the 'majority class', or the over-represented value. In this case, the '0' rows will be dropped at random until both value's are equal. This can lead to a loss of information, if there is not enough data. Since we have almost 500,000 total rows, this should not be a significant problem. "
   ]
  },
  {
   "cell_type": "markdown",
   "metadata": {},
   "source": [
    "## First, re-check value counts for the target...you can see twice as many '0' values"
   ]
  },
  {
   "cell_type": "code",
   "execution_count": 11,
   "metadata": {},
   "outputs": [
    {
     "data": {
      "text/plain": [
       "0.0    307337\n",
       "1.0    142679\n",
       "Name: MENTHLTH2, dtype: int64"
      ]
     },
     "execution_count": 11,
     "metadata": {},
     "output_type": "execute_result"
    },
    {
     "data": {
      "image/png": "[encoded data removed]",
      "text/plain": [
       "<Figure size 432x288 with 1 Axes>"
      ]
     },
     "metadata": {
      "needs_background": "light"
     },
     "output_type": "display_data"
    }
   ],
   "source": [
    "LLCP2.MENTHLTH2.value_counts().plot(kind='bar', title='Count (MENTHLTH2)');\n",
    "LLCP2['MENTHLTH2'].value_counts()"
   ]
  },
  {
   "cell_type": "markdown",
   "metadata": {},
   "source": [
    "## Let's first try Under-Sampling. Divide the classes. Now we undersample and concatenate back together. Then re-check the value counts. They are equal now, and we still have 142,679 rows to work with. "
   ]
  },
  {
   "cell_type": "code",
   "execution_count": 12,
   "metadata": {},
   "outputs": [
    {
     "name": "stdout",
     "output_type": "stream",
     "text": [
      "Random under-sampling:\n",
      "1.0    142679\n",
      "0.0    142679\n",
      "Name: MENTHLTH2, dtype: int64\n",
      "(285358, 17)\n"
     ]
    },
    {
     "data": {
      "image/png": "[encoded data removed]",
      "text/plain": [
       "<Figure size 432x288 with 1 Axes>"
      ]
     },
     "metadata": {
      "needs_background": "light"
     },
     "output_type": "display_data"
    }
   ],
   "source": [
    "# Class count\n",
    "count_class_0, count_class_1 = LLCP2.MENTHLTH2.value_counts()\n",
    "\n",
    "# Divide by class\n",
    "Good_MH = LLCP2[LLCP2['MENTHLTH2'] == 0]\n",
    "Poor_MH = LLCP2[LLCP2['MENTHLTH2'] == 1]\n",
    "\n",
    "Good_MH_under = Good_MH.sample(count_class_1)\n",
    "LLCP2_under = pd.concat([Good_MH_under, Poor_MH], axis=0)\n",
    "\n",
    "print('Random under-sampling:')\n",
    "print(LLCP2_under.MENTHLTH2.value_counts())\n",
    "print(LLCP2_under.shape)\n",
    "\n",
    "LLCP2_under.MENTHLTH2.value_counts().plot(kind='bar', title='Count (MENTHLTH2)');"
   ]
  },
  {
   "cell_type": "code",
   "execution_count": 13,
   "metadata": {},
   "outputs": [
    {
     "data": {
      "text/html": [
       "<div>\n",
       "<style scoped>\n",
       "    .dataframe tbody tr th:only-of-type {\n",
       "        vertical-align: middle;\n",
       "    }\n",
       "\n",
       "    .dataframe tbody tr th {\n",
       "        vertical-align: top;\n",
       "    }\n",
       "\n",
       "    .dataframe thead th {\n",
       "        text-align: right;\n",
       "    }\n",
       "</style>\n",
       "<table border=\"1\" class=\"dataframe\">\n",
       "  <thead>\n",
       "    <tr style=\"text-align: right;\">\n",
       "      <th></th>\n",
       "      <th>SEX</th>\n",
       "      <th>_AGE_G</th>\n",
       "      <th>_BMI5CAT</th>\n",
       "      <th>_EDUCAG</th>\n",
       "      <th>_INCOMG</th>\n",
       "      <th>_RFDRHV5</th>\n",
       "      <th>_PACAT1</th>\n",
       "      <th>_RFHLTH</th>\n",
       "      <th>_HCVU651</th>\n",
       "      <th>EMPLOY1</th>\n",
       "      <th>VETERAN3</th>\n",
       "      <th>MARITAL</th>\n",
       "      <th>ADDEPEV2</th>\n",
       "      <th>POORHLTH</th>\n",
       "      <th>PHYSHLTH</th>\n",
       "      <th>MENTHLTH</th>\n",
       "      <th>MENTHLTH2</th>\n",
       "    </tr>\n",
       "  </thead>\n",
       "  <tbody>\n",
       "    <tr>\n",
       "      <th>count</th>\n",
       "      <td>285358.000000</td>\n",
       "      <td>285358.000000</td>\n",
       "      <td>285358.000000</td>\n",
       "      <td>285358.000000</td>\n",
       "      <td>285358.000000</td>\n",
       "      <td>285358.000000</td>\n",
       "      <td>285358.000000</td>\n",
       "      <td>285358.000000</td>\n",
       "      <td>285358.000000</td>\n",
       "      <td>285358.000000</td>\n",
       "      <td>285358.000000</td>\n",
       "      <td>285358.000000</td>\n",
       "      <td>285358.000000</td>\n",
       "      <td>285358.000000</td>\n",
       "      <td>285358.000000</td>\n",
       "      <td>285358.000000</td>\n",
       "      <td>285358.000000</td>\n",
       "    </tr>\n",
       "    <tr>\n",
       "      <th>mean</th>\n",
       "      <td>0.422112</td>\n",
       "      <td>4.299711</td>\n",
       "      <td>0.712253</td>\n",
       "      <td>0.368726</td>\n",
       "      <td>3.732575</td>\n",
       "      <td>0.057426</td>\n",
       "      <td>2.435299</td>\n",
       "      <td>0.779109</td>\n",
       "      <td>0.922827</td>\n",
       "      <td>0.536761</td>\n",
       "      <td>0.119706</td>\n",
       "      <td>0.502716</td>\n",
       "      <td>0.259327</td>\n",
       "      <td>3.542406</td>\n",
       "      <td>5.079192</td>\n",
       "      <td>5.579269</td>\n",
       "      <td>0.500000</td>\n",
       "    </tr>\n",
       "    <tr>\n",
       "      <th>std</th>\n",
       "      <td>0.493897</td>\n",
       "      <td>1.610727</td>\n",
       "      <td>0.452714</td>\n",
       "      <td>0.482460</td>\n",
       "      <td>1.356013</td>\n",
       "      <td>0.232655</td>\n",
       "      <td>1.166838</td>\n",
       "      <td>0.414848</td>\n",
       "      <td>0.266867</td>\n",
       "      <td>0.498648</td>\n",
       "      <td>0.324618</td>\n",
       "      <td>0.499993</td>\n",
       "      <td>0.438266</td>\n",
       "      <td>8.037348</td>\n",
       "      <td>9.408492</td>\n",
       "      <td>9.275198</td>\n",
       "      <td>0.500001</td>\n",
       "    </tr>\n",
       "    <tr>\n",
       "      <th>min</th>\n",
       "      <td>0.000000</td>\n",
       "      <td>1.000000</td>\n",
       "      <td>0.000000</td>\n",
       "      <td>0.000000</td>\n",
       "      <td>1.000000</td>\n",
       "      <td>0.000000</td>\n",
       "      <td>1.000000</td>\n",
       "      <td>0.000000</td>\n",
       "      <td>0.000000</td>\n",
       "      <td>0.000000</td>\n",
       "      <td>0.000000</td>\n",
       "      <td>0.000000</td>\n",
       "      <td>0.000000</td>\n",
       "      <td>0.000000</td>\n",
       "      <td>0.000000</td>\n",
       "      <td>0.000000</td>\n",
       "      <td>0.000000</td>\n",
       "    </tr>\n",
       "    <tr>\n",
       "      <th>25%</th>\n",
       "      <td>0.000000</td>\n",
       "      <td>3.000000</td>\n",
       "      <td>0.000000</td>\n",
       "      <td>0.000000</td>\n",
       "      <td>3.000000</td>\n",
       "      <td>0.000000</td>\n",
       "      <td>1.000000</td>\n",
       "      <td>1.000000</td>\n",
       "      <td>1.000000</td>\n",
       "      <td>0.000000</td>\n",
       "      <td>0.000000</td>\n",
       "      <td>0.000000</td>\n",
       "      <td>0.000000</td>\n",
       "      <td>0.000000</td>\n",
       "      <td>0.000000</td>\n",
       "      <td>0.000000</td>\n",
       "      <td>0.000000</td>\n",
       "    </tr>\n",
       "    <tr>\n",
       "      <th>50%</th>\n",
       "      <td>0.000000</td>\n",
       "      <td>5.000000</td>\n",
       "      <td>1.000000</td>\n",
       "      <td>0.000000</td>\n",
       "      <td>4.000000</td>\n",
       "      <td>0.000000</td>\n",
       "      <td>2.000000</td>\n",
       "      <td>1.000000</td>\n",
       "      <td>1.000000</td>\n",
       "      <td>1.000000</td>\n",
       "      <td>0.000000</td>\n",
       "      <td>1.000000</td>\n",
       "      <td>0.000000</td>\n",
       "      <td>0.000000</td>\n",
       "      <td>0.000000</td>\n",
       "      <td>0.500000</td>\n",
       "      <td>0.500000</td>\n",
       "    </tr>\n",
       "    <tr>\n",
       "      <th>75%</th>\n",
       "      <td>1.000000</td>\n",
       "      <td>6.000000</td>\n",
       "      <td>1.000000</td>\n",
       "      <td>1.000000</td>\n",
       "      <td>5.000000</td>\n",
       "      <td>0.000000</td>\n",
       "      <td>4.000000</td>\n",
       "      <td>1.000000</td>\n",
       "      <td>1.000000</td>\n",
       "      <td>1.000000</td>\n",
       "      <td>0.000000</td>\n",
       "      <td>1.000000</td>\n",
       "      <td>1.000000</td>\n",
       "      <td>2.000000</td>\n",
       "      <td>5.000000</td>\n",
       "      <td>6.000000</td>\n",
       "      <td>1.000000</td>\n",
       "    </tr>\n",
       "    <tr>\n",
       "      <th>max</th>\n",
       "      <td>1.000000</td>\n",
       "      <td>6.000000</td>\n",
       "      <td>1.000000</td>\n",
       "      <td>1.000000</td>\n",
       "      <td>5.000000</td>\n",
       "      <td>1.000000</td>\n",
       "      <td>4.000000</td>\n",
       "      <td>1.000000</td>\n",
       "      <td>1.000000</td>\n",
       "      <td>1.000000</td>\n",
       "      <td>1.000000</td>\n",
       "      <td>1.000000</td>\n",
       "      <td>1.000000</td>\n",
       "      <td>30.000000</td>\n",
       "      <td>30.000000</td>\n",
       "      <td>30.000000</td>\n",
       "      <td>1.000000</td>\n",
       "    </tr>\n",
       "  </tbody>\n",
       "</table>\n",
       "</div>"
      ],
      "text/plain": [
       "                 SEX         _AGE_G       _BMI5CAT        _EDUCAG  \\\n",
       "count  285358.000000  285358.000000  285358.000000  285358.000000   \n",
       "mean        0.422112       4.299711       0.712253       0.368726   \n",
       "std         0.493897       1.610727       0.452714       0.482460   \n",
       "min         0.000000       1.000000       0.000000       0.000000   \n",
       "25%         0.000000       3.000000       0.000000       0.000000   \n",
       "50%         0.000000       5.000000       1.000000       0.000000   \n",
       "75%         1.000000       6.000000       1.000000       1.000000   \n",
       "max         1.000000       6.000000       1.000000       1.000000   \n",
       "\n",
       "             _INCOMG       _RFDRHV5        _PACAT1        _RFHLTH  \\\n",
       "count  285358.000000  285358.000000  285358.000000  285358.000000   \n",
       "mean        3.732575       0.057426       2.435299       0.779109   \n",
       "std         1.356013       0.232655       1.166838       0.414848   \n",
       "min         1.000000       0.000000       1.000000       0.000000   \n",
       "25%         3.000000       0.000000       1.000000       1.000000   \n",
       "50%         4.000000       0.000000       2.000000       1.000000   \n",
       "75%         5.000000       0.000000       4.000000       1.000000   \n",
       "max         5.000000       1.000000       4.000000       1.000000   \n",
       "\n",
       "            _HCVU651        EMPLOY1       VETERAN3        MARITAL  \\\n",
       "count  285358.000000  285358.000000  285358.000000  285358.000000   \n",
       "mean        0.922827       0.536761       0.119706       0.502716   \n",
       "std         0.266867       0.498648       0.324618       0.499993   \n",
       "min         0.000000       0.000000       0.000000       0.000000   \n",
       "25%         1.000000       0.000000       0.000000       0.000000   \n",
       "50%         1.000000       1.000000       0.000000       1.000000   \n",
       "75%         1.000000       1.000000       0.000000       1.000000   \n",
       "max         1.000000       1.000000       1.000000       1.000000   \n",
       "\n",
       "            ADDEPEV2       POORHLTH       PHYSHLTH       MENTHLTH  \\\n",
       "count  285358.000000  285358.000000  285358.000000  285358.000000   \n",
       "mean        0.259327       3.542406       5.079192       5.579269   \n",
       "std         0.438266       8.037348       9.408492       9.275198   \n",
       "min         0.000000       0.000000       0.000000       0.000000   \n",
       "25%         0.000000       0.000000       0.000000       0.000000   \n",
       "50%         0.000000       0.000000       0.000000       0.500000   \n",
       "75%         1.000000       2.000000       5.000000       6.000000   \n",
       "max         1.000000      30.000000      30.000000      30.000000   \n",
       "\n",
       "           MENTHLTH2  \n",
       "count  285358.000000  \n",
       "mean        0.500000  \n",
       "std         0.500001  \n",
       "min         0.000000  \n",
       "25%         0.000000  \n",
       "50%         0.500000  \n",
       "75%         1.000000  \n",
       "max         1.000000  "
      ]
     },
     "execution_count": 13,
     "metadata": {},
     "output_type": "execute_result"
    }
   ],
   "source": [
    "LLCP2_under.describe()"
   ]
  },
  {
   "cell_type": "markdown",
   "metadata": {},
   "source": [
    "## Now let's use the new df (LLCP2_under) to model build, as before."
   ]
  },
  {
   "cell_type": "code",
   "execution_count": 14,
   "metadata": {},
   "outputs": [],
   "source": [
    "X_under = LLCP2_under[['SEX','_AGE_G','_BMI5CAT','_EDUCAG','_INCOMG','_RFDRHV5','_PACAT1','_RFHLTH','_HCVU651','EMPLOY1',\n",
    "           'VETERAN3','MARITAL','ADDEPEV2','POORHLTH','PHYSHLTH']].values\n",
    "\n",
    "y_under = LLCP2_under['MENTHLTH2'].values"
   ]
  },
  {
   "cell_type": "code",
   "execution_count": 15,
   "metadata": {},
   "outputs": [
    {
     "name": "stdout",
     "output_type": "stream",
     "text": [
      "Number of rows/columns in X_test2 dataset:  (85608, 15)\n",
      "Number of rows/columns in y_test2 dataset:  (85608,)\n",
      "Number of rows/columns in X_train2 dataset:  (199750, 15)\n",
      "Number of rows/columns in y_train2 dataset:  (199750,)\n"
     ]
    }
   ],
   "source": [
    "X_train2, X_test2, y_train2, y_test2 = train_test_split(X_under, y_under, test_size=0.3, random_state=0)\n",
    "logreg_under = LogisticRegression(solver='liblinear')\n",
    "logreg_under.fit(X_train2, y_train2)\n",
    "y_pred2 = logreg_under.predict(X_test2)\n",
    "probs_under = logreg_under.predict_proba(X_test2)\n",
    "probs_under = probs_under[:,1]\n",
    "\n",
    "# describes info about train and test set \n",
    "print(\"Number of rows/columns in X_test2 dataset: \", X_test2.shape) \n",
    "print(\"Number of rows/columns in y_test2 dataset: \", y_test2.shape) \n",
    "print(\"Number of rows/columns in X_train2 dataset: \", X_train2.shape) \n",
    "print(\"Number of rows/columns in y_train2 dataset: \", y_train2.shape) "
   ]
  },
  {
   "cell_type": "markdown",
   "metadata": {},
   "source": [
    "## Model accuracy\n",
    "\n",
    "### We see the model accuracy score dropped a little bit, but it's still decent. Let's look closer."
   ]
  },
  {
   "cell_type": "code",
   "execution_count": 16,
   "metadata": {},
   "outputs": [
    {
     "name": "stdout",
     "output_type": "stream",
     "text": [
      "Accuracy of logistic regression classifier on test set: 0.7057\n"
     ]
    }
   ],
   "source": [
    "y_pred2 = logreg_under.predict(X_test2)\n",
    "\n",
    "print('Accuracy of logistic regression classifier on test set: {:.4f}'.format(logreg_under.score(X_test2, y_test2)))"
   ]
  },
  {
   "cell_type": "markdown",
   "metadata": {},
   "source": [
    "## Confusion Matrix"
   ]
  },
  {
   "cell_type": "code",
   "execution_count": 17,
   "metadata": {},
   "outputs": [
    {
     "name": "stdout",
     "output_type": "stream",
     "text": [
      "[[33188  9517]\n",
      " [15677 27226]]\n"
     ]
    }
   ],
   "source": [
    "from sklearn.metrics import confusion_matrix\n",
    "\n",
    "confusion_matrix = confusion_matrix(y_test2, y_pred2)\n",
    "print(confusion_matrix)"
   ]
  },
  {
   "cell_type": "markdown",
   "metadata": {},
   "source": [
    "#### True positive:    33188     _(We predicted a positive result and it was positive)_\n",
    "#### True negative:    27226     _(We predicted a negative result and it was negative)_\n",
    "#### False positive:   9517      _(We predicted a positive result and it was negative)_\n",
    "#### False negative:   15677     _(We predicted a negative result and it was positive)_\n",
    "\n",
    "#### So, this model makes more correct predictions, than not and the false negative rate seems a bit higher than the false positive"
   ]
  },
  {
   "cell_type": "markdown",
   "metadata": {},
   "source": [
    "## Check the precision, recall, and F1 scores"
   ]
  },
  {
   "cell_type": "code",
   "execution_count": 18,
   "metadata": {},
   "outputs": [
    {
     "name": "stdout",
     "output_type": "stream",
     "text": [
      "[[33188  9517]\n",
      " [15677 27226]]\n",
      "              precision    recall  f1-score   support\n",
      "\n",
      "         0.0       0.68      0.78      0.72     42705\n",
      "         1.0       0.74      0.63      0.68     42903\n",
      "\n",
      "   micro avg       0.71      0.71      0.71     85608\n",
      "   macro avg       0.71      0.71      0.70     85608\n",
      "weighted avg       0.71      0.71      0.70     85608\n",
      "\n",
      "0.7057050742921223\n"
     ]
    }
   ],
   "source": [
    "from sklearn.metrics import classification_report, confusion_matrix, accuracy_score\n",
    "\n",
    "print(confusion_matrix(y_test2,y_pred2))\n",
    "print(classification_report(y_test2,y_pred2))\n",
    "print(accuracy_score(y_test2, y_pred2))"
   ]
  },
  {
   "cell_type": "markdown",
   "metadata": {},
   "source": [
    "### Above, we that our metrics have been lowered a bit after undersampling, however, the scores for 'poor mental health'  ('0) have been raised and are similar to 'good mental heath' ('1'). This is a much better and more balanced model than before the undersampling."
   ]
  },
  {
   "cell_type": "code",
   "execution_count": 19,
   "metadata": {},
   "outputs": [
    {
     "data": {
      "image/png": "[encoded data removed]",
      "text/plain": [
       "<Figure size 1440x720 with 1 Axes>"
      ]
     },
     "metadata": {
      "needs_background": "light"
     },
     "output_type": "display_data"
    },
    {
     "name": "stdout",
     "output_type": "stream",
     "text": [
      "AUC: 0.777\n"
     ]
    }
   ],
   "source": [
    "logit_roc_auc = roc_auc_score(y_test2, probs_under)\n",
    "fpr, tpr, thresholds = roc_curve(y_test2, probs_under)\n",
    "plt.figure(figsize=(20,10))\n",
    "plt.plot(fpr, tpr, label='Logistic Regression (area = %0.2f)' % logit_roc_auc)\n",
    "plt.plot([0, 1], [0, 1],'r--')\n",
    "plt.xlim([0.0, 1.0])\n",
    "plt.ylim([0.0, 1.05])\n",
    "plt.xlabel('False Positive Rate')\n",
    "plt.ylabel('True Positive Rate')\n",
    "plt.title('Receiver Operating Characteristic')\n",
    "plt.legend(loc=\"lower right\")\n",
    "plt.savefig('Log_ROC')\n",
    "plt.show()\n",
    "print('AUC: %.3f' % logit_roc_auc)"
   ]
  },
  {
   "cell_type": "markdown",
   "metadata": {},
   "source": [
    "### The ROC curve for this model looks pretty good"
   ]
  },
  {
   "cell_type": "markdown",
   "metadata": {},
   "source": [
    "## Now, let's try Over-Sampling and compare. Always split the data into train/test sets BEFORE Over-Sampling. If not, you'll “bleed” information from the test set into the training of the models. We'll use SMOTE for this."
   ]
  },
  {
   "cell_type": "code",
   "execution_count": 20,
   "metadata": {},
   "outputs": [
    {
     "name": "stdout",
     "output_type": "stream",
     "text": [
      "Number of rows/columns in X_test3 dataset:  (135005, 15)\n",
      "Number of rows/columns in y_test3 dataset:  (135005,)\n",
      "Number of rows/columns in X_train3 dataset:  (315011, 15)\n",
      "Number of rows/columns in y_train3 dataset:  (315011,)\n",
      "Number of rows/columns in X_train_over dataset:  (430094, 15)\n",
      "Number of rows/columns in y_train_over dataset:  (430094,)\n"
     ]
    }
   ],
   "source": [
    "from imblearn.over_sampling import SMOTE\n",
    "\n",
    "# setting up testing and training sets\n",
    "X_train3, X_test3, y_train3, y_test3 = train_test_split(X, y, test_size=0.3, random_state=0)\n",
    "\n",
    "sm = SMOTE(sampling_strategy='minority', random_state=0)\n",
    "X_train_over, y_train_over = sm.fit_sample(X_train3, y_train3)\n",
    "\n",
    "# describes info about train and test set \n",
    "print(\"Number of rows/columns in X_test3 dataset: \", X_test3.shape) \n",
    "print(\"Number of rows/columns in y_test3 dataset: \", y_test3.shape) \n",
    "print(\"Number of rows/columns in X_train3 dataset: \", X_train3.shape) \n",
    "print(\"Number of rows/columns in y_train3 dataset: \", y_train3.shape) \n",
    "print(\"Number of rows/columns in X_train_over dataset: \", X_train_over.shape) \n",
    "print(\"Number of rows/columns in y_train_over dataset: \", y_train_over.shape) "
   ]
  },
  {
   "cell_type": "markdown",
   "metadata": {},
   "source": [
    "### We can see below that there are now an equal number of occurances on the target variable now. There are over twice as many observations for 'Poor Mental Health', or '1' on the MENTHLTH2 target variable compared before the resampling."
   ]
  },
  {
   "cell_type": "code",
   "execution_count": 21,
   "metadata": {},
   "outputs": [
    {
     "data": {
      "text/plain": [
       "{0.0: 215047, 1.0: 99964}"
      ]
     },
     "execution_count": 21,
     "metadata": {},
     "output_type": "execute_result"
    }
   ],
   "source": [
    "unique, counts = np.unique(y_train3, return_counts=True)\n",
    "dict(zip(unique, counts))"
   ]
  },
  {
   "cell_type": "code",
   "execution_count": 22,
   "metadata": {},
   "outputs": [
    {
     "data": {
      "text/plain": [
       "{0.0: 215047, 1.0: 215047}"
      ]
     },
     "execution_count": 22,
     "metadata": {},
     "output_type": "execute_result"
    }
   ],
   "source": [
    "unique, counts = np.unique(y_train_over, return_counts=True)\n",
    "dict(zip(unique, counts))"
   ]
  },
  {
   "cell_type": "markdown",
   "metadata": {},
   "source": [
    "## Now, let's rerun that Logistic Regression Algo"
   ]
  },
  {
   "cell_type": "code",
   "execution_count": 23,
   "metadata": {},
   "outputs": [],
   "source": [
    "log_smote = LogisticRegression(solver='liblinear')\n",
    "log_smote.fit(X_train_over, y_train_over)\n",
    "smote_pred = log_smote.predict(X_test3)\n",
    "smote_probs = log_smote.predict_proba(X_test3)\n",
    "smote_probs = smote_probs[:,1]"
   ]
  },
  {
   "cell_type": "code",
   "execution_count": 24,
   "metadata": {},
   "outputs": [
    {
     "name": "stdout",
     "output_type": "stream",
     "text": [
      "[[71798 20492]\n",
      " [15596 27119]]\n",
      "              precision    recall  f1-score   support\n",
      "\n",
      "         0.0       0.82      0.78      0.80     92290\n",
      "         1.0       0.57      0.63      0.60     42715\n",
      "\n",
      "   micro avg       0.73      0.73      0.73    135005\n",
      "   macro avg       0.70      0.71      0.70    135005\n",
      "weighted avg       0.74      0.73      0.74    135005\n",
      "\n",
      "0.7326913818006741\n"
     ]
    }
   ],
   "source": [
    "print(confusion_matrix(y_test3,smote_pred))\n",
    "print(classification_report(y_test3,smote_pred))\n",
    "print(accuracy_score(y_test3, smote_pred))"
   ]
  },
  {
   "cell_type": "code",
   "execution_count": 25,
   "metadata": {},
   "outputs": [
    {
     "data": {
      "image/png": "[encoded data removed]",
      "text/plain": [
       "<Figure size 1440x720 with 1 Axes>"
      ]
     },
     "metadata": {
      "needs_background": "light"
     },
     "output_type": "display_data"
    },
    {
     "name": "stdout",
     "output_type": "stream",
     "text": [
      "AUC: 0.778\n"
     ]
    }
   ],
   "source": [
    "logit_roc_auc = roc_auc_score(y_test3, smote_probs)\n",
    "fpr, tpr, thresholds = roc_curve(y_test3, smote_probs)\n",
    "plt.figure(figsize=(20,10))\n",
    "plt.plot(fpr, tpr, label='Logistic Regression (area = %0.2f)' % logit_roc_auc)\n",
    "plt.plot([0, 1], [0, 1],'r--')\n",
    "plt.xlim([0.0, 1.0])\n",
    "plt.ylim([0.0, 1.05])\n",
    "plt.xlabel('False Positive Rate')\n",
    "plt.ylabel('True Positive Rate')\n",
    "plt.title('Receiver Operating Characteristic')\n",
    "plt.legend(loc=\"lower right\")\n",
    "plt.savefig('Log_ROC')\n",
    "plt.show()\n",
    "print('AUC: %.3f' % logit_roc_auc)"
   ]
  },
  {
   "cell_type": "markdown",
   "metadata": {},
   "source": [
    "## We can see that the accuracy score for the Over-Sampled model is slightly higher at 73% vs 71% for Under-Sampling. However, this isn't the whole story because the accuracy of predicting Poor Mental Health (MENTHLTH2=1) dropped for the Over-Sampled model. The AUC was identical for both models too. Because we are trying to predict risk of poor mental health, we should consider the Under-Sampled model as the better model. "
   ]
  },
  {
   "cell_type": "code",
   "execution_count": null,
   "metadata": {},
   "outputs": [],
   "source": []
  }
 ],
 "metadata": {
  "kernelspec": {
   "display_name": "Python 3",
   "language": "python",
   "name": "python3"
  },
  "language_info": {
   "codemirror_mode": {
    "name": "ipython",
    "version": 3
   },
   "file_extension": ".py",
   "mimetype": "text/x-python",
   "name": "python",
   "nbconvert_exporter": "python",
   "pygments_lexer": "ipython3",
   "version": "3.7.3"
  }
 },
 "nbformat": 4,
 "nbformat_minor": 2
}
